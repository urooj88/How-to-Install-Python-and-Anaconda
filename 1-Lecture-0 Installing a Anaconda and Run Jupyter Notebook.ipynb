{
 "cells": [
  {
   "cell_type": "markdown",
   "id": "420a67bb",
   "metadata": {},
   "source": [
    "# Aim\n",
    "The main aim of this lecture is to provide you the basic introduction of Python and Installing Python with Anaconda.\n",
    "\n",
    "# What Will You Need?\n",
    "A good internet connection is required.\n",
    "\n",
    "# What Will You Learn?\n",
    "After reading this blog, you should be able to:\n",
    "Basic introduction of python\n",
    "Installing python with Anaconda"
   ]
  },
  {
   "cell_type": "markdown",
   "id": "71648fbc",
   "metadata": {},
   "source": [
    "# Installing Anaconda\n",
    "Anaconda setup is available for different operating systems like Windows, Linux, macOS, but this lecture only emphasis the installation on windows."
   ]
  },
  {
   "cell_type": "markdown",
   "id": "82e77c93",
   "metadata": {},
   "source": [
    "# Installing on Windows:\n",
    "1. Download the Anaconda Installer (https://www.anaconda.com/products/individual), there are two setups available on website, download the python 3.10.1(https://www.python.org/downloads/windows/) version.\n",
    "2. Double click the installer to launch.\n",
    "3. Click next\n",
    "4. Read the license terms and click “I agree”.\n",
    "5. Select an install for “just me”, unless you’re installing for all users which require administrator privileges and click next.\n",
    "6. Select the destination folder and click the next button.\n",
    "7. Choose whether to add Anaconda to your environment variable. It is recommended that not add Anaconda to your environment variable because it can interfere into other software. Use anaconda software by opening from Anaconda navigator or Anaconda prompt from the start menu.(If you add anaconda to your environmental variable, then you can open the editor from any folder.)\n",
    "8. After successful installation you will see the dialog box “Thanks for installing Anaconda3!”."
   ]
  },
  {
   "cell_type": "markdown",
   "id": "05e450f9",
   "metadata": {},
   "source": [
    "# Choosing the Editor\n",
    "\n",
    "In this course we will work on Jupyter Notebook editor, which is a part of our Anaconda installer. Jupyter Notebook is the powerful tool used for data science/data analysis due to which we prefer this."
   ]
  },
  {
   "cell_type": "markdown",
   "id": "f504bbff",
   "metadata": {},
   "source": [
    "# Opening the Jupyter Notebook\n",
    "1. Go to the Windows search bar and write jupyter Notebook and click open to open the Jupyter Notebook.\n",
    "2. You can open Jupyter Notebook from Anaconda prompt by writing Jupyter Notebook.\n",
    "3. The Jupyter Notebook interface open after executing the command and you will see.\n",
    "4. Click the new Python 3.\n",
    "5. your IDE (Integreted development evnvironemnt is open), you can write python code here."
   ]
  },
  {
   "cell_type": "markdown",
   "id": "c632962e",
   "metadata": {},
   "source": [
    "# Conclusion\n",
    "So far,we provide the steps to install the Anaconda and Jupyter Notebook. In next lecture I will discuss the python. introduction, syntax and give you the basic examples of code and much more. So, be ready to learn course “Python Crash Course Series for Data Science”."
   ]
  },
  {
   "cell_type": "code",
   "execution_count": null,
   "id": "05a595f9",
   "metadata": {},
   "outputs": [],
   "source": []
  }
 ],
 "metadata": {
  "kernelspec": {
   "display_name": "Python 3 (ipykernel)",
   "language": "python",
   "name": "python3"
  },
  "language_info": {
   "codemirror_mode": {
    "name": "ipython",
    "version": 3
   },
   "file_extension": ".py",
   "mimetype": "text/x-python",
   "name": "python",
   "nbconvert_exporter": "python",
   "pygments_lexer": "ipython3",
   "version": "3.9.7"
  }
 },
 "nbformat": 4,
 "nbformat_minor": 5
}
